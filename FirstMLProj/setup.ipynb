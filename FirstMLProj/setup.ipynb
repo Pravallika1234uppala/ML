{
 "cells": [
  {
   "cell_type": "markdown",
   "id": "718d1f95-8d38-48b3-8c32-b9e3a326af41",
   "metadata": {},
   "source": [
    "### 7 step to build ML project:"
   ]
  },
  {
   "cell_type": "markdown",
   "id": "71eb58bd-818e-4f6c-8f56-1bf8fadaa5a3",
   "metadata": {},
   "source": [
    "#### 1. Form a hypothesis"
   ]
  },
  {
   "cell_type": "markdown",
   "id": "6bef62e4-2a97-46ec-8719-f8f92e106a86",
   "metadata": {},
   "source": [
    "Hypothesis - It is a statement that we can prove or disapprove using the data.\n",
    "\n",
    "ex: We can predict how many medals a country will win in the Olympics using data."
   ]
  },
  {
   "cell_type": "markdown",
   "id": "284bf555-720f-455f-b29e-90dfaf098f9c",
   "metadata": {},
   "source": [
    "#### 2. Find Data"
   ]
  },
  {
   "cell_type": "markdown",
   "id": "e2b72173-ee74-41ed-b35d-e38721b4f659",
   "metadata": {},
   "source": [
    "Once we have hypothesis. We need to find data to prove or disapprove it."
   ]
  },
  {
   "cell_type": "markdown",
   "id": "cada4387-81a0-4110-866e-84d2efaa9268",
   "metadata": {},
   "source": [
    "ex: using data from summer olympics\n",
    "Dataset has more than 200 rows.\n",
    "each row - Is a single country in a single olympic game."
   ]
  },
  {
   "cell_type": "markdown",
   "id": "983bc724-524f-4e4f-af03-c24ba58752e2",
   "metadata": {},
   "source": [
    "#### 3. Reshape the Data"
   ]
  },
  {
   "cell_type": "markdown",
   "id": "fe6b230f-58e6-41a7-8e43-82f66fe7c1de",
   "metadata": {},
   "source": [
    "Once we have data we need to reshape the data to make machine learning predictions possible.\n",
    "\n",
    "If the data is already in the form it needs to be in then the data is clean. (where we can pull data from a single row to make the predictions we need)\n",
    "\n",
    "As some times data will be in a position where target column is not available in single row."
   ]
  },
  {
   "cell_type": "markdown",
   "id": "abec29ec-b2ad-4919-aa86-10e0ba01f941",
   "metadata": {},
   "source": [
    "#### 4. Clean the Data"
   ]
  },
  {
   "cell_type": "markdown",
   "id": "0908df2c-70cc-4573-8b80-ca5233402eeb",
   "metadata": {},
   "source": [
    "Once data is reshaped.\n",
    "\n",
    "We can start to clean it.\n",
    "\n",
    "Cleaning data - involves making sure that our data is ready for ML.\n",
    "\n",
    "Here lot of our data has missing values.(no value)\n",
    "\n",
    "Ex: there is no value as they didn't compete\n",
    "\n",
    "Most ML algorithms cannot work with missing data.\n",
    "\n",
    "So we need to clean data to handle those missing values.\n",
    "\n"
   ]
  },
  {
   "cell_type": "markdown",
   "id": "8d927fae-a766-428d-9a44-aafc78c1cbef",
   "metadata": {},
   "source": [
    "#### 5. Error metric"
   ]
  },
  {
   "cell_type": "markdown",
   "id": "341cb973-3f6c-43ea-8436-040df9b96a90",
   "metadata": {},
   "source": [
    "Can be used to evaluate the performance of our ML model."
   ]
  },
  {
   "cell_type": "markdown",
   "id": "7ff05460-5124-45e6-ab8f-443dbd45b52a",
   "metadata": {},
   "source": [
    "ML model - Going to create predictions.\n",
    "\n",
    "ex: going to create the number of medals we think a country should have earned in given olympics.\n",
    "\n",
    "Predictions are different from actual count.\n",
    "\n",
    "Need a way to figure out if the predictions were good or not.- we do that by using error metric.\n",
    "\n",
    "ex:\n",
    "Error metric here used is mean absolute error.\n",
    "D\n",
    "∑|xi-yi|\n",
    "i=1\n",
    "\n",
    "Working:\n",
    "Added error column to table.\n",
    "error = actual - prediction\n",
    "(by dropping -ve sign)\n",
    "\n",
    "This is the creation of absolute error.\n",
    "\n",
    "Then taking mean of all the individual errors.\n",
    "\n",
    "So, we add up all error values and then divide by total number of predictions made.\n",
    "\n",
    "This gives us mean absolute error.\n",
    "\n"
   ]
  },
  {
   "cell_type": "markdown",
   "id": "3da6338d-069b-49bb-bd6f-27778ad75a40",
   "metadata": {},
   "source": [
    "So, this is the metric we use to evaluate the algorithm is making predictions effectively."
   ]
  },
  {
   "cell_type": "markdown",
   "id": "c85166d6-3eea-4b01-a2f4-4614d43ba198",
   "metadata": {},
   "source": [
    "#### 6. Split the Data"
   ]
  },
  {
   "cell_type": "markdown",
   "id": "54f15e46-215f-40d1-85b0-264af7767b1c",
   "metadata": {},
   "source": [
    "We need to split the data because we want to train on one part of the data and make predictions on another part of the data."
   ]
  },
  {
   "cell_type": "markdown",
   "id": "f09f78eb-435e-405b-a386-2e5246fe14db",
   "metadata": {},
   "source": [
    "Reason: if we train the algorithm on the same data that we used to evaluate it.\n",
    "(it's like algorithm is having a open book on test)\n",
    "\n",
    "So, we give algorithm a new set of data that it has not been trained on to make predictions on that new set of data.\n",
    "\n",
    "This tells us how well the algorithm is performing.\n",
    "\n",
    "train the algorithm - On train Data\n",
    "\n",
    "test the algorithm - On test Data\n",
    "\n",
    "And measure mean absolute error - how well the algorithm makes predictions on test data.(This tells us if we build the algorithm properly or not)"
   ]
  },
  {
   "cell_type": "markdown",
   "id": "3fc385c8-61ac-4cea-8c22-3f7e9a2232a6",
   "metadata": {},
   "source": [
    "#### 7. Train a Model"
   ]
  },
  {
   "cell_type": "markdown",
   "id": "c3fc12b1-759d-4bf6-b49a-cb7a9e96c86b",
   "metadata": {},
   "source": [
    "Training the model.\n",
    "\n",
    "here, we use linear regression. It is a popular ML model.\n",
    "\n",
    "Linear regression works with a equation.\n",
    "\n",
    "Y = ax+B\n",
    "\n",
    "(Equation that we are going to use train our model)\n",
    "\n"
   ]
  },
  {
   "cell_type": "markdown",
   "id": "262a5b7c-552d-4841-94f7-1d69927f0e11",
   "metadata": {},
   "source": [
    "Ex:\n",
    "\n",
    "medals - on y-axis\n",
    "\n",
    "previous medals - on x-axis\n",
    "\n",
    "So, linear regression model will draw a line b/w points. \n",
    "we can use that line to make predictions.(predicts new data using past data)\n",
    "\n",
    "So, we have trained the slope of this line using equation Y=ax+B\n",
    "\n",
    "Y=ax+B equation dictates y-intercept and slope of the line.\n",
    "\n",
    "Can use this line to predict data that we haven't trained on.\n",
    "\n"
   ]
  },
  {
   "cell_type": "markdown",
   "id": "3b6d40b3-1588-4f25-b82a-65a87992eece",
   "metadata": {},
   "source": [
    "Here, the way of building linear regression is:\n",
    "\n",
    "we train it using data that we already have.\n",
    "\n",
    "We use what we have trained(the line) to make predictions on future data.\n",
    "\n",
    "    "
   ]
  },
  {
   "cell_type": "markdown",
   "id": "f7ec7402-c19c-4b88-959b-aa6066c51546",
   "metadata": {},
   "source": [
    "Univariate or Single variable linear regression:\n",
    "\n",
    "Here we are only using previous medals to predict the medals they will get.\n",
    "\n",
    "but more complicated than actual model.\n",
    "\n",
    "we gonna use two predictors.\n",
    "\n",
    "Y= a1x1+a2x2+B\n",
    "\n",
    "So, using this equation which enables us to use two predictors.\n",
    "\n",
    "ex: 2 predictors - number of atheletes a country enters.\n",
    "number of medals in olympics.\n",
    "\n"
   ]
  },
  {
   "cell_type": "code",
   "execution_count": null,
   "id": "f435f361-4878-4951-9ffd-55b1b5683a93",
   "metadata": {},
   "outputs": [],
   "source": []
  }
 ],
 "metadata": {
  "kernelspec": {
   "display_name": "Python 3 (ipykernel)",
   "language": "python",
   "name": "python3"
  },
  "language_info": {
   "codemirror_mode": {
    "name": "ipython",
    "version": 3
   },
   "file_extension": ".py",
   "mimetype": "text/x-python",
   "name": "python",
   "nbconvert_exporter": "python",
   "pygments_lexer": "ipython3",
   "version": "3.12.4"
  }
 },
 "nbformat": 4,
 "nbformat_minor": 5
}
